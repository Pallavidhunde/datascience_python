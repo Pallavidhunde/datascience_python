{
  "nbformat": 4,
  "nbformat_minor": 0,
  "metadata": {
    "colab": {
      "name": "Untitled0.ipynb",
      "provenance": []
    },
    "kernelspec": {
      "name": "python3",
      "display_name": "Python 3"
    }
  },
  "cells": [
    {
      "cell_type": "code",
      "metadata": {
        "id": "mZZrX9Uv_CZ7"
      },
      "source": [
        "from scipy import stats"
      ],
      "execution_count": 7,
      "outputs": []
    },
    {
      "cell_type": "code",
      "metadata": {
        "colab": {
          "base_uri": "https://localhost:8080/"
        },
        "id": "otbXU60nDHmm",
        "outputId": "d5f8939d-3200-4bfb-a8e6-dbc4494f4dd4"
      },
      "source": [
        "stats.norm.cdf(70,60,10)"
      ],
      "execution_count": null,
      "outputs": [
        {
          "output_type": "execute_result",
          "data": {
            "text/plain": [
              "0.8413447460685429"
            ]
          },
          "metadata": {
            "tags": []
          },
          "execution_count": 3
        }
      ]
    },
    {
      "cell_type": "code",
      "metadata": {
        "colab": {
          "base_uri": "https://localhost:8080/"
        },
        "id": "G48lOi-2DH0q",
        "outputId": "53e54aae-2956-4df3-f627-4d6735811b4e"
      },
      "source": [
        "stats.norm.cdf(680,711,29)"
      ],
      "execution_count": null,
      "outputs": [
        {
          "output_type": "execute_result",
          "data": {
            "text/plain": [
              "0.14254260383881612"
            ]
          },
          "metadata": {
            "tags": []
          },
          "execution_count": 5
        }
      ]
    },
    {
      "cell_type": "code",
      "metadata": {
        "colab": {
          "base_uri": "https://localhost:8080/"
        },
        "id": "CA4c259REemy",
        "outputId": "76396d75-6de6-4858-bf6e-37e8be8cc32b"
      },
      "source": [
        "1-stats.norm.cdf(720,711,29)"
      ],
      "execution_count": null,
      "outputs": [
        {
          "output_type": "execute_result",
          "data": {
            "text/plain": [
              "0.37814937265194704"
            ]
          },
          "metadata": {
            "tags": []
          },
          "execution_count": 7
        }
      ]
    },
    {
      "cell_type": "code",
      "metadata": {
        "id": "slt3_sm_FfeW",
        "colab": {
          "base_uri": "https://localhost:8080/"
        },
        "outputId": "dea770cc-3424-4fe9-cef3-8b5987c325e3"
      },
      "source": [
        "stats.norm.cdf(720,711,29)-stats.norm.cdf(711,711,29)"
      ],
      "execution_count": 8,
      "outputs": [
        {
          "output_type": "execute_result",
          "data": {
            "text/plain": [
              "0.12185062734805296"
            ]
          },
          "metadata": {
            "tags": []
          },
          "execution_count": 8
        }
      ]
    }
  ]
}